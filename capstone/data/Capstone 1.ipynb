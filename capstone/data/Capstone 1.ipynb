{
 "cells": [
  {
   "cell_type": "code",
   "execution_count": null,
   "metadata": {
    "collapsed": false
   },
   "outputs": [],
   "source": [
    "#Create a function in Python that plots year on the x-axis and lifeExp on the y-axis for a particular \n",
    "#country in a Juypter notebook"
   ]
  },
  {
   "cell_type": "code",
   "execution_count": null,
   "metadata": {
    "collapsed": true
   },
   "outputs": [],
   "source": []
  },
  {
   "cell_type": "code",
   "execution_count": null,
   "metadata": {
    "collapsed": false
   },
   "outputs": [],
   "source": [
    "pwd"
   ]
  },
  {
   "cell_type": "code",
   "execution_count": null,
   "metadata": {
    "collapsed": true
   },
   "outputs": [],
   "source": [
    "from __future__ import division       \n",
    "import math\n",
    "#import matplotlib as mpl              ### May need to uncomment these two lines for mac osx users\n",
    "#mpl.use('TkAgg')                      ###\n",
    "from matplotlib import pyplot as plot\n",
    "plot.style.use('ggplot')\n",
    "import pandas as pandas\n",
    "import numpy as numpy\n",
    "%matplotlib inline"
   ]
  },
  {
   "cell_type": "code",
   "execution_count": null,
   "metadata": {
    "collapsed": false
   },
   "outputs": [],
   "source": [
    "manifest = pandas.read_csv(\"gapminder.csv\") # read CSV will put all the rows in the csv into a variable called df\n",
    "manifest.head()"
   ]
  },
  {
   "cell_type": "code",
   "execution_count": null,
   "metadata": {
    "collapsed": false
   },
   "outputs": [],
   "source": [
    "manifest.dtypes"
   ]
  },
  {
   "cell_type": "code",
   "execution_count": null,
   "metadata": {
    "collapsed": false,
    "scrolled": true
   },
   "outputs": [],
   "source": [
    "country_group = manifest[manifest[\"country\"]==\"Albania\"]\n",
    "country_group.head()"
   ]
  },
  {
   "cell_type": "code",
   "execution_count": null,
   "metadata": {
    "collapsed": false,
    "scrolled": false
   },
   "outputs": [],
   "source": [
    "country_group.dtypes"
   ]
  },
  {
   "cell_type": "code",
   "execution_count": null,
   "metadata": {
    "collapsed": false,
    "scrolled": true
   },
   "outputs": [],
   "source": []
  },
  {
   "cell_type": "code",
   "execution_count": null,
   "metadata": {
    "collapsed": false,
    "scrolled": false
   },
   "outputs": [],
   "source": [
    "plot.scatter(country_group['year'], country_group['lifeExp']) #scatter is a function of x-axis values and y-axis values\n",
    "plot.show()"
   ]
  },
  {
   "cell_type": "code",
   "execution_count": null,
   "metadata": {
    "collapsed": false
   },
   "outputs": [],
   "source": [
    "country_list= numpy.unique(manifest[\"country\"].tolist())\n",
    "country_list"
   ]
  },
  {
   "cell_type": "code",
   "execution_count": null,
   "metadata": {
    "collapsed": false
   },
   "outputs": [],
   "source": [
    "def show_plot(country_list):\n",
    "    for cname in country_list:\n",
    "        newgrp=manifest[manifest[\"country\"]==cname]\n",
    "        fig=plot.figure()\n",
    "        ax=fig.add_subplot(111)\n",
    "        plot.scatter(newgrp['year'],newgrp['lifeExp'])\n",
    "        ax.set_xlabel(\"year\")\n",
    "        ax.set_ylabel(\"life exp for\"+cname)\n",
    "        #plot.legend(label=\"Albania\")\n",
    "plot.show()"
   ]
  },
  {
   "cell_type": "code",
   "execution_count": null,
   "metadata": {
    "collapsed": false
   },
   "outputs": [],
   "source": [
    "def show_plot_alone(country):\n",
    "    newgrp=manifest[manifest[\"country\"]==country]\n",
    "    plot.scatter(newgrp['year'],newgrp['lifeExp'])\n"
   ]
  },
  {
   "cell_type": "code",
   "execution_count": null,
   "metadata": {
    "collapsed": false
   },
   "outputs": [],
   "source": [
    "listCountry=[\"Honduras\", \"Hungary\", \"Iceland\", \"India\"]\n",
    "for cname in listCountry:\n",
    "    show_plot_alone(cname)\n",
    "plot.legend(listCountry)\n",
    "plot.xlabel(\"Year\")\n",
    "plot.ylabel(\"Life Expectancy\")\n",
    "plot.show()"
   ]
  },
  {
   "cell_type": "code",
   "execution_count": null,
   "metadata": {
    "collapsed": false
   },
   "outputs": [],
   "source": [
    "show_plot(listCountry)\n",
    "plot.show()"
   ]
  },
  {
   "cell_type": "code",
   "execution_count": null,
   "metadata": {
    "collapsed": true
   },
   "outputs": [],
   "source": []
  }
 ],
 "metadata": {
  "kernelspec": {
   "display_name": "Python 3",
   "language": "python",
   "name": "python3"
  },
  "language_info": {
   "codemirror_mode": {
    "name": "ipython",
    "version": 3
   },
   "file_extension": ".py",
   "mimetype": "text/x-python",
   "name": "python",
   "nbconvert_exporter": "python",
   "pygments_lexer": "ipython3",
   "version": "3.6.0"
  }
 },
 "nbformat": 4,
 "nbformat_minor": 2
}
